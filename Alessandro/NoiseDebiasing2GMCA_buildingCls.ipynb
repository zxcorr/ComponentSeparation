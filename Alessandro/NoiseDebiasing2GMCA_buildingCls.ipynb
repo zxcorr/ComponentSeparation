{
 "cells": [
  {
   "cell_type": "code",
   "execution_count": 2,
   "metadata": {},
   "outputs": [],
   "source": [
    "%matplotlib inline\n",
    "\n",
    "import os,sys\n",
    "import numpy as np\n",
    "import healpy as hp\n",
    "import pandas as pd\n",
    "import gmca4im_lib2 as g4i\n",
    "import astropy.io.fits as fits\n",
    "import Extension4BINGO as cs\n",
    "import matplotlib\n",
    "from matplotlib import rc\n",
    "import matplotlib.pyplot as plt\n",
    "import time\n",
    "from IPython.display import clear_output\n",
    "rc('text', usetex=True)\n",
    "font = {'weight' : 'bold',\n",
    "        'size'   : 22}\n",
    "matplotlib.rc('font', **font)"
   ]
  },
  {
   "cell_type": "code",
   "execution_count": 3,
   "metadata": {},
   "outputs": [],
   "source": [
    "data             = \"BINGO\"  #MeerKAT\n",
    "wtransform       = \"starlet\"\n",
    "maps_wout_mean   = True\n",
    "mask             = True\n",
    "add_noise  = True\n",
    "sigmaE           = None    #add sigma value. If it is blank will be assume 21cm fluctuations\n",
    "name_noise = None\n",
    "\n",
    "#Wavelete informations\n",
    "J     = 3\n",
    "use_c = True\n",
    "\n",
    "################   GMCA PARAMETERS   ##################\n",
    "n_s   = 3   # number of sources to be estimated\n",
    "mints = 0.1 # min threshold (what is sparse compared to noise?)\n",
    "nmax  = 100 # number of iterations (usually 100 is safe)\n",
    "L0    = 0   # switch between L0 norm (1) or L1 norm (0)\n",
    "#######################################################\n",
    "AInit     = None\n",
    "ColFixed  = None\n",
    "whitening = False\n",
    "epsi      = 1e-3\n",
    "verbose   = False\n",
    "\n",
    "#GMCAExtension\n",
    "div =1 #  J+1  #J/div will should be even number"
   ]
  },
  {
   "cell_type": "markdown",
   "metadata": {},
   "source": [
    "### Foregrounds + HI + Noise\n",
    "$C_{\\ell}^{\\textrm{FG+HI+N}}$"
   ]
  },
  {
   "cell_type": "code",
   "execution_count": 4,
   "metadata": {},
   "outputs": [],
   "source": [
    "#####################################\n",
    "#Input maps and its names\n",
    "#####################################\n",
    "pathmaps  = \"/home/marins/Documents/Programmation/BINGO/Component Separation/maps\"  #Put here your path to the input maps\n",
    "dir_      = \"Cubos_Input_L11_L25_21cm_fg_White_Noise\"                               #Put here directory name  of the observacional maps\n",
    "#####################################\n",
    "#path Output Cls \n",
    "#####################################\n",
    "pathout = \"/home/marins/Documents/Programmation/BINGO/Component Separation/gmca4im/cls_output\" #Put here your path to the output cls\n",
    "plot_   = \"reconstruction\" #You should choice between reconstruction or residuals cls values"
   ]
  },
  {
   "cell_type": "code",
   "execution_count": 5,
   "metadata": {},
   "outputs": [],
   "source": [
    "names     = os.listdir(os.path.join(pathmaps,dir_))\n",
    "names21cm = []\n",
    "nseed     = []\n",
    "for iname in names:\n",
    "    nseed.append(iname.split(\"_\")[-2]) #selecting L-number from string name\n",
    "    names21cm.append(os.path.join(dir_,iname)) #stacking maps -- dir/namefile\n",
    "names21cm = np.asarray(names21cm) "
   ]
  },
  {
   "cell_type": "code",
   "execution_count": null,
   "metadata": {},
   "outputs": [
    {
     "name": "stdout",
     "output_type": "stream",
     "text": [
      "\n",
      "Wavelet transforming the data . . .\n",
      ". . completed in 10.06 minutes\n",
      "\n",
      "Starting Component Analysis...\n",
      "Building reconstructed maps...\n",
      "Building residuals maps...\n",
      "Finished in: 31.85 min\n",
      "Loop time: 43.63 min\n"
     ]
    }
   ],
   "source": [
    "timei = time.time()\n",
    "subdirs = cs.checkdir(pathout, subdirs=[\"21cm\",\"foregrounds\",\"mixmatrix\"])\n",
    "for i,iname in enumerate(names21cm):\n",
    "    time0 = time.time()\n",
    "    maps    = cs.getmaps(type_ = data, path = pathmaps, observed_without_mean = maps_wout_mean, apply_mask=mask,add_noise=add_noise, sigmaE= sigmaE,name_21cm=iname)  #to get map\n",
    "    X       = maps[\"observed\"]\n",
    "    mrec    = cs.maps2GMCAmaps(maps=X, WT=wtransform, J=J, div=div, n_s=n_s, mints=mints, nmax=nmax, L=L0, AInit=AInit, ColFixed=ColFixed, whitening=whitening, epsi=epsi, use_scale_coefs=use_c) #Component Separation\n",
    "    del X, maps\n",
    "    cs.saveouts(mrec=mrec,pathout=pathout, iseed=nseed[i], J=J, div=div, plot_=plot_,subdirs=subdirs) #save cls in its diretory and with its L-number name\n",
    "    time0   = time.time()-time0\n",
    "    print(\"Loop time: {:.2f} min\".format(time0/60))\n",
    "    del mrec\n",
    "clear_output(wait=True)    \n",
    "time0 = time.time()-timei\n",
    "print(\"Completed in: {:.2f} min\".format(time0/60))"
   ]
  },
  {
   "cell_type": "markdown",
   "metadata": {},
   "source": [
    "### Noise\n",
    "$C_{\\ell}^{\\textrm{N}}$"
   ]
  },
  {
   "cell_type": "code",
   "execution_count": 9,
   "metadata": {},
   "outputs": [],
   "source": [
    "pathmaps  = \"/home/marins/Documents/Programmation/BINGO/Component Separation/maps\"               #Put here your path to the input map\n",
    "pathout   = \"/home/marins/Documents/Programmation/BINGO/Component Separation/gmca4im/cls_output\" #Put here your path to the output cls\n",
    "dir_noise = \"wn_masked\"  #Put here directory name of the noise maps"
   ]
  },
  {
   "cell_type": "code",
   "execution_count": null,
   "metadata": {},
   "outputs": [],
   "source": [
    "names     = os.listdir(os.path.join(pathmaps,dir_noise))\n",
    "names_noise = []\n",
    "nseed       = []\n",
    "for iname in names:\n",
    "    nseed.append(iname.split(\"_\")[-1][:2]) #selecting L-number from string name\n",
    "    names_noise.append(os.path.join(dir_noise,iname))\n",
    "names_noise = np.asarray(names_noise)"
   ]
  },
  {
   "cell_type": "code",
   "execution_count": 10,
   "metadata": {},
   "outputs": [
    {
     "name": "stdout",
     "output_type": "stream",
     "text": [
      "Completed in: 1.84 min\n"
     ]
    }
   ],
   "source": [
    "timei   = time.time()\n",
    "subdirs = [\"noise\"]\n",
    "if not os.path.isdir(os.path.join(pathout,subdirs[0])):\n",
    "    os.makedirs(os.path.join(pathout,subdirs[0]))\n",
    "for i,iname in enumerate(names_noise):\n",
    "    time0 = time.time()\n",
    "    maps  = cs.getmaps(type_=\"noise\",  path = pathmaps, name_noise=iname)\n",
    "    cs.saveouts(mrec=maps, pathout=pathout, iseed=\"L\"+nseed[i], subdirs=subdirs)\n",
    "    time0 = time.time()-time0\n",
    "    print(\"[{0}] Loop time: {1:.2f} min\".format(\"L\"+nseed[i],time0/60))\n",
    "clear_output(wait=True)    \n",
    "time0 = time.time()-timei\n",
    "print(\"Completed in: {:.2f} min\".format(time0/60))"
   ]
  },
  {
   "cell_type": "markdown",
   "metadata": {},
   "source": [
    "### Prior\n",
    "$C_{\\ell}^{\\textrm{prior}}$"
   ]
  },
  {
   "cell_type": "code",
   "execution_count": 6,
   "metadata": {},
   "outputs": [],
   "source": [
    "pathmaps  = \"/home/marins/Documents/Programmation/BINGO/Component Separation/maps\"               #Put here your path to the input map\n",
    "pathout   = \"/home/marins/Documents/Programmation/BINGO/Component Separation/gmca4im/cls_output\" #Put here your path to the output cls\n",
    "dir_prior = \"Cubos_Prior_WN\" #Put here directory name of the noise maps"
   ]
  },
  {
   "cell_type": "code",
   "execution_count": 7,
   "metadata": {},
   "outputs": [],
   "source": [
    "names       = os.listdir(os.path.join(pathmaps,dir_prior))\n",
    "names_prior = []\n",
    "nseed       = []\n",
    "for iname in names:\n",
    "    nseed.append(iname.split(\"_\")[-1].split(\".\")[0][:3]) #selecting L-number from string name\n",
    "    names_prior.append(os.path.join(dir_prior,iname))\n",
    "names_prior = np.asarray(names_prior)"
   ]
  },
  {
   "cell_type": "code",
   "execution_count": 8,
   "metadata": {},
   "outputs": [
    {
     "name": "stdout",
     "output_type": "stream",
     "text": [
      "Completed in: 2.29 min\n"
     ]
    }
   ],
   "source": [
    "timei   = time.time()\n",
    "subdirs = [\"prior\"]\n",
    "if not os.path.isdir(os.path.join(pathout,subdirs[0])):\n",
    "    os.makedirs(os.path.join(pathout,subdirs[0]))\n",
    "for i,iname in enumerate(names_prior):\n",
    "    time0 = time.time()\n",
    "    maps  = cs.getmaps(type_=\"prior\",  path = pathmaps, name_prior=iname)\n",
    "    cs.saveouts(mrec=maps, pathout=pathout, iseed=nseed[i], subdirs=subdirs)\n",
    "    time0 = time.time()-time0\n",
    "    print(\"[{0}] Loop time: {1:.2f} min\".format(nseed[i],time0/60))\n",
    "clear_output(wait=True)    \n",
    "time0 = time.time()-timei\n",
    "print(\"Completed in: {:.2f} min\".format(time0/60))"
   ]
  },
  {
   "cell_type": "markdown",
   "metadata": {},
   "source": [
    "### 21cm pure\n",
    "$C_{\\ell}^{\\textrm{pure}}$"
   ]
  },
  {
   "cell_type": "code",
   "execution_count": 3,
   "metadata": {},
   "outputs": [],
   "source": [
    "pathmaps  = \"/home/marins/Documents/Programmation/BINGO/Component Separation/maps\"               #Put here your path to the input map\n",
    "pathout   = \"/home/marins/Documents/Programmation/BINGO/Component Separation/gmca4im/cls_output\" #Put here your path to the output cls\n",
    "dir_prior = \"Cubos_21cm_Masked\" #Put here directory name of the noise maps"
   ]
  },
  {
   "cell_type": "code",
   "execution_count": 4,
   "metadata": {},
   "outputs": [],
   "source": [
    "names       = os.listdir(os.path.join(pathmaps,dir_prior))\n",
    "names_prior = []\n",
    "nseed       = []\n",
    "for iname in names:\n",
    "    nseed.append(iname.split(\"_\")[-1].split(\".\")[0][:3]) #selecting L-number from string name\n",
    "    names_prior.append(os.path.join(dir_prior,iname))\n",
    "names_prior = np.asarray(names_prior)"
   ]
  },
  {
   "cell_type": "code",
   "execution_count": 5,
   "metadata": {},
   "outputs": [
    {
     "name": "stdout",
     "output_type": "stream",
     "text": [
      "Completed in: 1.79 min\n"
     ]
    }
   ],
   "source": [
    "timei   = time.time()\n",
    "subdirs = [\"pure\"]\n",
    "if not os.path.isdir(os.path.join(pathout,subdirs[0])):\n",
    "    os.makedirs(os.path.join(pathout,subdirs[0]))\n",
    "for i,iname in enumerate(names_prior):\n",
    "    time0 = time.time()\n",
    "    maps  = cs.getmaps(type_= \"pure\",  path = pathmaps, name_prior=iname)\n",
    "    cs.saveouts(mrec=maps, pathout=pathout, iseed=nseed[i], subdirs=subdirs)\n",
    "    time0 = time.time()-time0\n",
    "    print(\"[{0}] Loop time: {1:.2f} min\".format(nseed[i],time0/60))\n",
    "clear_output(wait=True)    \n",
    "time0 = time.time()-timei\n",
    "print(\"Completed in: {:.2f} min\".format(time0/60))"
   ]
  },
  {
   "cell_type": "code",
   "execution_count": null,
   "metadata": {},
   "outputs": [],
   "source": []
  }
 ],
 "metadata": {
  "kernelspec": {
   "display_name": "Python 3",
   "language": "python",
   "name": "python3"
  },
  "language_info": {
   "codemirror_mode": {
    "name": "ipython",
    "version": 3
   },
   "file_extension": ".py",
   "mimetype": "text/x-python",
   "name": "python",
   "nbconvert_exporter": "python",
   "pygments_lexer": "ipython3",
   "version": "3.6.9"
  }
 },
 "nbformat": 4,
 "nbformat_minor": 4
}
