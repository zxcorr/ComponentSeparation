{
 "cells": [
  {
   "cell_type": "code",
   "execution_count": 70,
   "metadata": {},
   "outputs": [],
   "source": [
    "%matplotlib inline\n",
    "\n",
    "import os,sys\n",
    "import numpy as np\n",
    "import healpy as hp\n",
    "import pandas as pd\n",
    "import gmca4im_lib2 as g4i\n",
    "import astropy.io.fits as fits\n",
    "import Extension4BINGO as cs\n",
    "import matplotlib\n",
    "from matplotlib import rc\n",
    "import matplotlib.pyplot as plt\n",
    "import time\n",
    "from IPython.display import clear_output\n",
    "rc('text', usetex=True)\n",
    "font = {'weight' : 'bold',\n",
    "        'size'   : 22}\n",
    "matplotlib.rc('font', **font)"
   ]
  },
  {
   "cell_type": "code",
   "execution_count": 74,
   "metadata": {},
   "outputs": [],
   "source": [
    "#######################################################\n",
    "################   GENERAL INFORMATIONS   #############\n",
    "#######################################################\n",
    "wtransform       = \"starlet\"\n",
    "maps_wout_mean   = True\n",
    "apply_mask       = False\n",
    "add_noise        = False\n",
    "#######################################################\n",
    "################   WAVELETS PARAMETERS   ##############\n",
    "#######################################################\n",
    "J     = 1     #number of scales\n",
    "use_c = True  # if you will use wavelet scale in the analysis\n",
    "##############\n",
    "# If you to use wtransforms by S2Let code, please, fill in the variables below:\n",
    "L        = None #If you write \"None\", it will use L=3*nside\n",
    "J_min    = 1\n",
    "B        = 3\n",
    "N        = 3  # Number of directions (This is for Directional only)\n",
    "spin     = 0  # set to 0 for temperature. if non-zero, plotting routines must be changed! (This is for Directional only)\n",
    "upsample = 0  # 1 means all scales at full resolution L # 0 means multiresolution wavelet transform (This is for Directional only)\n",
    "\n",
    "# In the S2LET code, J scales is defined by code and not by J above.\n",
    "#######################################################\n",
    "################   GMCA PARAMETERS   ##################\n",
    "#######################################################\n",
    "n_s   = 3   # number of sources to be estimated\n",
    "mints = 0.1 # min threshold (what is sparse compared to noise?)\n",
    "nmax  = 100 # number of iterations (usually 100 is safe)\n",
    "L0    = 0   # switch between L0 norm (1) or L1 norm (0)\n",
    "#######################################################\n",
    "AInit     = None\n",
    "ColFixed  = None\n",
    "whitening = False\n",
    "epsi      = 1e-3\n",
    "verbose   = False\n",
    "#GMCAExtension\n",
    "div          = 1    #  J+1  #J/div will should be even number\n",
    "without_covx = True # if your mixmatrix estimated will use covariance matrix of the observer data with ponderation\n",
    "#######################################################\n",
    "################   PATHS PARAMETERS   #################\n",
    "#######################################################\n",
    "#directory path inputs\n",
    "path = \"/home/marins/Documents/Programmation/BINGO/Component Separation/maps/others\"\n",
    "#path outputs\n",
    "pathout  = \"/home/marins/Documents/Programmation/BINGO/Component Separation/gmca4im/cls_output\" #Put here your path to the output cls\n",
    "cl_type_save  = \"reconstruction\" #You should choice between reconstruction or residuals cls values\n",
    "#######################################################\n",
    "################   NAME FILES PARAMETERS   ############\n",
    "#######################################################\n",
    "# Name of FITS files inside of the pathmaps\n",
    "#Directory names\n",
    "path = \"/home/marins/Documents/Programmation/BINGO/Component Separation/maps/others\"\n",
    "\n",
    "name_mask     = \"Mask_Bin.fits\"\n",
    "name_observed = \"Cube_5PSM_L10_RS.fits\"#\"Cube_5PSM_L10_RS.fits\"\n",
    "name_pure     = \"Cube_21_Smooth_L10.fits\"\n",
    "name_noise    = \"bingo_WN_256_mK_CubeA_10Masked.fits\""
   ]
  },
  {
   "cell_type": "code",
   "execution_count": 79,
   "metadata": {},
   "outputs": [
    {
     "name": "stdout",
     "output_type": "stream",
     "text": [
      "\n",
      "Wavelet transforming the data . . .\n",
      ". . completed in 2.30 minutes\n",
      "\n",
      "Starting Component Analysis...\n",
      "Building reconstructed maps...\n",
      "Building residuals maps...\n",
      "Finished in: 2.07 min\n"
     ]
    }
   ],
   "source": [
    "params_CS   = pd.Series({\"A_ini\":AInit, \"ColFixed\":ColFixed, \"whitening\":whitening, \"epsi\":epsi, \"verbose\":verbose, \"ns\":n_s, \"mints\":mints,\"nmax\":nmax, \"L0\":L0, \"division\":div, \"without_covx\":without_covx})\n",
    "params_WT   = pd.Series({\"wtransform\":wtransform, \"J\":J, \"use_c\":use_c, \"L\":L, \"Jmin\":J_min, \"B\": B, \"N\":N, \"spin\":spin, \"upsample\":upsample})\n",
    "\n",
    "parmaps = pd.Series({\"getdata\":\"observed\", \"apply_mask\":False, \"without_mean\":True})\n",
    "parpath = pd.Series({\"dir_observed\":path,\"dir_mask\":path, \"name_mask\":name_mask,\"name_observed\":name_observed})\n",
    "Xobs    = cs.adaptation_maps(cs.getmaps(parmaps, parpath), parmaps, parpath)\n",
    "\n",
    "parmaps = pd.Series({\"getdata\":\"pure\", \"apply_mask\":False, \"without_mean\":True})\n",
    "parpath = pd.Series({\"dir_pure\":path  ,\"dir_mask\":path, \"name_mask\":name_mask,\"name_pure\":name_pure})\n",
    "Xhi     = cs.adaptation_maps(cs.getmaps(parmaps, parpath), parmaps, parpath)\n",
    "\n",
    "mrec = cs.maps2GMCAmaps(Xobs, params_WT, params_CS)\n",
    "clear_output(wait=True)    "
   ]
  },
  {
   "cell_type": "code",
   "execution_count": 80,
   "metadata": {},
   "outputs": [
    {
     "data": {
      "text/plain": [
       "<matplotlib.legend.Legend at 0x7faad1aefba8>"
      ]
     },
     "execution_count": 80,
     "metadata": {},
     "output_type": "execute_result"
    },
    {
     "data": {
      "image/png": "[encoded data removed]",
      "text/plain": [
       "<Figure size 432x288 with 1 Axes>"
      ]
     },
     "metadata": {
      "needs_background": "light"
     },
     "output_type": "display_data"
    }
   ],
   "source": [
    "i     = np.random.randint(Xhi.shape[0])\n",
    "cl1   = hp.anafast(Xhi[i])\n",
    "cl2   = hp.anafast(mrec[\"reconstruction\"][\"21cm\"][i])\n",
    "#cl3  = hp.anafast(Xobs[i])\n",
    "l1    = np.arange(len(cl1))\n",
    "fact1 = l1*(l1+1)/(2*np.pi)\n",
    "l2    = np.arange(len(cl2))\n",
    "fact2 = l2*(l2+1)/(2*np.pi)\n",
    "\n",
    "plt.plot(l1,fact1*cl1, linestyle = \"solid\", linewidth=3, color=\"blue\", label=\"pure\")\n",
    "plt.plot(l2,fact2*cl2, linestyle = \"dashed\", linewidth=1, color=\"red\", label=\"rec\")\n",
    "plt.xlabel(r\"$\\ell$)\", fontsize=20)\n",
    "plt.ylabel(r\"$\\ell(\\ell+1)$C$_{\\ell}/2\\pi$ $(\\textrm{mK}^2$)\", fontsize=20)\n",
    "plt.xscale(\"log\")\n",
    "plt.yscale(\"log\")\n",
    "plt.legend()"
   ]
  }
 ],
 "metadata": {
  "kernelspec": {
   "display_name": "Python 3",
   "language": "python",
   "name": "python3"
  },
  "language_info": {
   "codemirror_mode": {
    "name": "ipython",
    "version": 3
   },
   "file_extension": ".py",
   "mimetype": "text/x-python",
   "name": "python",
   "nbconvert_exporter": "python",
   "pygments_lexer": "ipython3",
   "version": "3.6.9"
  }
 },
 "nbformat": 4,
 "nbformat_minor": 4
}
