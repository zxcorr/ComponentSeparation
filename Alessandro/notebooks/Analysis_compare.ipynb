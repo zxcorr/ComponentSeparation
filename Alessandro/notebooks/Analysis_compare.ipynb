{
 "cells": [
  {
   "cell_type": "markdown",
   "metadata": {},
   "source": [
    "# Debias\n"
   ]
  },
  {
   "cell_type": "code",
   "execution_count": 15,
   "metadata": {
    "tags": []
   },
   "outputs": [],
   "source": [
    "%matplotlib inline\n",
    "import os,sys\n",
    "import numpy as np\n",
    "import pandas as pd\n",
    "import matplotlib\n",
    "from   matplotlib import rc\n",
    "import matplotlib.pyplot as plt\n",
    "from   IPython.display import clear_output\n",
    "rc('text', usetex=True)\n",
    "font = {'weight' : 'bold',\n",
    "        'size'   : 22}\n",
    "matplotlib.rc('font', **font)\n",
    "\n",
    "sys.path.insert(1, '/home/marins/Documents/Programmation/BINGO/Component Separation/gmca4im/scripts')\n",
    "import Extension4BINGO as cs"
   ]
  },
  {
   "cell_type": "code",
   "execution_count": 16,
   "metadata": {
    "tags": []
   },
   "outputs": [],
   "source": [
    "#####################################\n",
    "#paths\n",
    "#####################################\n",
    "pathcls       = \"/home/marins/Documents/Programmation/BINGO/Component Separation/gmca4im/test_new_module\" #Path to the cls outputs from NoiseDebiasing2GMCA_building code results\n",
    "dirs          = np.array([\"ICAn3_starletJ1\" , \"ICAn3_identity\",\"GMCAn3_s1_id\", \"GMCAn3_sJ1_haarJ2\"])#\"GMCAn3_stJ1axB100\"])\n",
    "names         = np.array([\"ICAn3 s1\",\"ICAn3 identity\",\"GMCAn3 s1 id\", \"GMCAn3 sJ1 haarJ2\"])#\"GMCAn3 s1 ax100\"])\n",
    "colorplot     = np.array([\"black\",\"darkorange\",\"dodgerblue\",\"red\",\"aqua\",\"limegreen\",\"fuchsia\"])\n",
    "dir_hi        = \"21cm\"        #Directory name of the cls of the 21cm reconstruction maps\n",
    "dir_fg        = \"foregrounds\" #Directory name of the cls of the foregrounds reconstruction maps\n",
    "dir_prior     = \"prior\"       #Directory name of the cls of the prior maps, that can be (21cm + noise) masked\n",
    "dir_noise     = \"noise\"       #Directory name of the cls of the noise maps, that can be (WhiteNoise or/and 1/f) masked\n",
    "dir_pure      = \"pure\"        #Directory name of the cls of the (only) 21cm maps, masked or not.\n",
    "dir_projnoise = \"projnoise\"   #Directory name of the cls of the noise maps, that can be (WhiteNoise or/and 1/f) masked\n",
    "dir_projpure  = \"projpure\"    #Directory name of the cls of the (only) 21cm maps, masked or not.\n",
    "dir_projprior = \"projprior\"   #\n",
    "debias_model  = \"filipe\"\n",
    "#All of cls should be obtained from the same L's (seeds) \n",
    "####################################\n",
    "# seed number \n",
    "####################################\n",
    "seed_used  = 10        #L0 used for analysis, ie, the realisation used for analysis\n",
    "\n",
    "############################################################################################################\n",
    "# Plot parameters\n",
    "############################################################################################################\n",
    "numplots = 3\n",
    "l0       = 0\n",
    "del_l    = 4\n",
    "fsky     = 0.8"
   ]
  },
  {
   "cell_type": "code",
   "execution_count": 17,
   "metadata": {},
   "outputs": [],
   "source": [
    "params_plot = pd.Series({\"numplots\":numplots, \"del_l\":del_l,\"fsky\":fsky, \"L0\":\"L{}\".format(seed_used), \"l0\":l0})"
   ]
  },
  {
   "cell_type": "code",
   "execution_count": 19,
   "metadata": {},
   "outputs": [
    {
     "ename": "FileNotFoundError",
     "evalue": "[Errno 2] No such file or directory: '/home/marins/Documents/Programmation/BINGO/Component Separation/gmca4im/test_new_module/GMCAn3_sJ1_haarJ2/prior'",
     "output_type": "error",
     "traceback": [
      "\u001b[0;31m---------------------------------------------------------------------------\u001b[0m",
      "\u001b[0;31mFileNotFoundError\u001b[0m                         Traceback (most recent call last)",
      "\u001b[0;32m<ipython-input-19-7a23a1ebc04a>\u001b[0m in \u001b[0;36m<module>\u001b[0;34m\u001b[0m\n\u001b[1;32m      1\u001b[0m \u001b[0mpaths\u001b[0m \u001b[0;34m=\u001b[0m \u001b[0mnp\u001b[0m\u001b[0;34m.\u001b[0m\u001b[0marray\u001b[0m\u001b[0;34m(\u001b[0m\u001b[0;34m[\u001b[0m\u001b[0mos\u001b[0m\u001b[0;34m.\u001b[0m\u001b[0mpath\u001b[0m\u001b[0;34m.\u001b[0m\u001b[0mjoin\u001b[0m\u001b[0;34m(\u001b[0m\u001b[0mpathcls\u001b[0m\u001b[0;34m,\u001b[0m\u001b[0midir\u001b[0m\u001b[0;34m)\u001b[0m \u001b[0;32mfor\u001b[0m \u001b[0midir\u001b[0m \u001b[0;32min\u001b[0m \u001b[0mdirs\u001b[0m\u001b[0;34m]\u001b[0m\u001b[0;34m)\u001b[0m\u001b[0;34m\u001b[0m\u001b[0;34m\u001b[0m\u001b[0m\n\u001b[1;32m      2\u001b[0m \u001b[0;32mfor\u001b[0m \u001b[0mi\u001b[0m\u001b[0;34m,\u001b[0m\u001b[0mipath\u001b[0m \u001b[0;32min\u001b[0m \u001b[0menumerate\u001b[0m\u001b[0;34m(\u001b[0m\u001b[0mpaths\u001b[0m\u001b[0;34m)\u001b[0m\u001b[0;34m:\u001b[0m\u001b[0;34m\u001b[0m\u001b[0;34m\u001b[0m\u001b[0m\n\u001b[0;32m----> 3\u001b[0;31m     \u001b[0mcls\u001b[0m \u001b[0;34m=\u001b[0m \u001b[0mcs\u001b[0m\u001b[0;34m.\u001b[0m\u001b[0mloadcls\u001b[0m\u001b[0;34m(\u001b[0m\u001b[0mipath\u001b[0m\u001b[0;34m,\u001b[0m\u001b[0mdirs\u001b[0m\u001b[0;34m=\u001b[0m\u001b[0;34m[\u001b[0m\u001b[0mdir_hi\u001b[0m\u001b[0;34m,\u001b[0m\u001b[0mdir_fg\u001b[0m\u001b[0;34m,\u001b[0m\u001b[0mdir_prior\u001b[0m\u001b[0;34m,\u001b[0m\u001b[0mdir_noise\u001b[0m\u001b[0;34m,\u001b[0m\u001b[0mdir_pure\u001b[0m\u001b[0;34m]\u001b[0m\u001b[0;34m)\u001b[0m\u001b[0;34m\u001b[0m\u001b[0;34m\u001b[0m\u001b[0m\n\u001b[0m\u001b[1;32m      4\u001b[0m     \u001b[0mcls\u001b[0m \u001b[0;34m=\u001b[0m \u001b[0mcs\u001b[0m\u001b[0;34m.\u001b[0m\u001b[0mnoisedebiasing\u001b[0m\u001b[0;34m(\u001b[0m\u001b[0mCls_\u001b[0m\u001b[0;34m=\u001b[0m\u001b[0mcls\u001b[0m\u001b[0;34m,\u001b[0m \u001b[0mseed_used\u001b[0m\u001b[0;34m=\u001b[0m\u001b[0mseed_used\u001b[0m\u001b[0;34m,\u001b[0m \u001b[0mdir_hi\u001b[0m \u001b[0;34m=\u001b[0m \u001b[0mdir_hi\u001b[0m\u001b[0;34m,\u001b[0m \u001b[0mdir_prior\u001b[0m\u001b[0;34m=\u001b[0m\u001b[0mdir_prior\u001b[0m\u001b[0;34m,\u001b[0m \u001b[0mdir_noise\u001b[0m \u001b[0;34m=\u001b[0m \u001b[0mdir_noise\u001b[0m\u001b[0;34m,\u001b[0m \u001b[0mtype_\u001b[0m\u001b[0;34m=\u001b[0m\u001b[0mdebias_model\u001b[0m\u001b[0;34m)\u001b[0m\u001b[0;34m[\u001b[0m\u001b[0;34m\"Cls_debias\"\u001b[0m\u001b[0;34m]\u001b[0m\u001b[0;34m\u001b[0m\u001b[0;34m\u001b[0m\u001b[0m\n\u001b[1;32m      5\u001b[0m     \u001b[0ml\u001b[0m   \u001b[0;34m=\u001b[0m \u001b[0mnp\u001b[0m\u001b[0;34m.\u001b[0m\u001b[0marange\u001b[0m\u001b[0;34m(\u001b[0m\u001b[0mlen\u001b[0m\u001b[0;34m(\u001b[0m\u001b[0mcls\u001b[0m\u001b[0;34m)\u001b[0m\u001b[0;34m)\u001b[0m\u001b[0;34m\u001b[0m\u001b[0;34m\u001b[0m\u001b[0m\n",
      "\u001b[0;32m~/Documents/Programmation/BINGO/Component Separation/gmca4im/scripts/Extension4BINGO.py\u001b[0m in \u001b[0;36mloadcls\u001b[0;34m(pathcls, dirs)\u001b[0m\n\u001b[1;32m    465\u001b[0m         \u001b[0mcl\u001b[0m      \u001b[0;34m=\u001b[0m \u001b[0mnp\u001b[0m\u001b[0;34m.\u001b[0m\u001b[0mzeros\u001b[0m\u001b[0;34m(\u001b[0m\u001b[0;34m(\u001b[0m\u001b[0mnu\u001b[0m\u001b[0;34m,\u001b[0m\u001b[0mL\u001b[0m\u001b[0;34m)\u001b[0m\u001b[0;34m)\u001b[0m\u001b[0;34m\u001b[0m\u001b[0;34m\u001b[0m\u001b[0m\n\u001b[1;32m    466\u001b[0m         \u001b[0;32mfor\u001b[0m \u001b[0minu\u001b[0m \u001b[0;32min\u001b[0m \u001b[0mrange\u001b[0m\u001b[0;34m(\u001b[0m\u001b[0mnu\u001b[0m\u001b[0;34m)\u001b[0m\u001b[0;34m:\u001b[0m\u001b[0;34m\u001b[0m\u001b[0;34m\u001b[0m\u001b[0m\n\u001b[0;32m--> 467\u001b[0;31m             \u001b[0mcl\u001b[0m\u001b[0;34m[\u001b[0m\u001b[0minu\u001b[0m\u001b[0;34m]\u001b[0m \u001b[0;34m+=\u001b[0m \u001b[0mhp\u001b[0m\u001b[0;34m.\u001b[0m\u001b[0manafast\u001b[0m\u001b[0;34m(\u001b[0m\u001b[0mmrec\u001b[0m\u001b[0;34m[\u001b[0m\u001b[0minu\u001b[0m\u001b[0;34m]\u001b[0m\u001b[0;34m,\u001b[0m \u001b[0mlmax\u001b[0m\u001b[0;34m=\u001b[0m\u001b[0mL\u001b[0m\u001b[0;34m-\u001b[0m\u001b[0;36m1\u001b[0m\u001b[0;34m)\u001b[0m\u001b[0;34m\u001b[0m\u001b[0;34m\u001b[0m\u001b[0m\n\u001b[0m\u001b[1;32m    468\u001b[0m         \u001b[0msavedata\u001b[0m\u001b[0;34m(\u001b[0m\u001b[0mCl_\u001b[0m\u001b[0;34m=\u001b[0m\u001b[0mcl\u001b[0m\u001b[0;34m,\u001b[0m \u001b[0mfilename\u001b[0m\u001b[0;34m=\u001b[0m\u001b[0;34m\"cl\"\u001b[0m\u001b[0;34m,\u001b[0m \u001b[0mpath\u001b[0m\u001b[0;34m=\u001b[0m\u001b[0mpath\u001b[0m\u001b[0;34m,\u001b[0m \u001b[0miseed\u001b[0m\u001b[0;34m=\u001b[0m\u001b[0mparams_maps\u001b[0m\u001b[0;34m.\u001b[0m\u001b[0miseed\u001b[0m\u001b[0;34m)\u001b[0m\u001b[0;34m\u001b[0m\u001b[0;34m\u001b[0m\u001b[0m\n\u001b[1;32m    469\u001b[0m         \u001b[0;32mdel\u001b[0m \u001b[0mcl\u001b[0m\u001b[0;34m\u001b[0m\u001b[0;34m\u001b[0m\u001b[0m\n",
      "\u001b[0;31mFileNotFoundError\u001b[0m: [Errno 2] No such file or directory: '/home/marins/Documents/Programmation/BINGO/Component Separation/gmca4im/test_new_module/GMCAn3_sJ1_haarJ2/prior'"
     ]
    }
   ],
   "source": [
    "paths = np.array([os.path.join(pathcls,idir) for idir in dirs])\n",
    "for i,ipath in enumerate(paths):\n",
    "    cls = cs.loadcls(ipath,dirs=[dir_hi,dir_fg,dir_prior,dir_noise,dir_pure])  \n",
    "    cls = cs.noisedebiasing(Cls_=cls, seed_used=seed_used, dir_hi = dir_hi, dir_prior=dir_prior, dir_noise = dir_noise, type_=debias_model)[\"Cls_debias\"]\n",
    "    l   = np.arange(len(cls))\n",
    "    if i==0:\n",
    "        Cls={names[i]:{\"cl\":cls,\"l\":l}}\n",
    "    else:\n",
    "        Cls[names[i]]={\"cl\":cls,\"l\":l}\n",
    "Cls = pd.DataFrame(Cls)"
   ]
  },
  {
   "cell_type": "code",
   "execution_count": null,
   "metadata": {},
   "outputs": [],
   "source": [
    "cls = cs.loadcls(paths[0],dirs=[dir_hi,dir_fg,dir_prior,dir_noise,dir_pure])[\"pure\"]"
   ]
  },
  {
   "cell_type": "code",
   "execution_count": null,
   "metadata": {},
   "outputs": [],
   "source": [
    "fig      = plt.figure()\n",
    "numplots = 3\n",
    "grid     = plt.GridSpec(3,2*numplots,top=3.5,right=3*numplots)\n",
    "L0    = \"L{}\".format(seed_used)\n",
    "nu,nl = cls[L0].shape\n",
    "l     = np.arange(nl)\n",
    "fact  = l*(l+1)/(2*np.pi)\n",
    "del_l = 4\n",
    "fsky  = 0.8\n",
    "l0 = 0\n",
    "bins = np.array([3,10,24]) #np.random.randint(nu,size=numplots\n",
    "for col,i in enumerate(bins):\n",
    "    params_plot[\"nch\"]=i\n",
    "    ax = plt.subplot(grid[0,col])\n",
    "    plt.title(\"bin {}\".format(i), fontsize=20)\n",
    "    plt.plot(    l,fact*cls[L0][i], color=\"red\", label=\"L0\" , linewidth =3)\n",
    "    for j,iname in enumerate(names):\n",
    "        lb, clb = cs.clsbinned(Cls[iname][\"cl\"][i],del_l=del_l,l0=l0)\n",
    "        factb =  lb*(lb+1)/(2*np.pi)\n",
    "        #err   =cs.errorCls(clb,params_plot, type_=[\"21cm\",\"noise\"])\n",
    "        #plt.errorbar(lb, factb*clb, yerr=factb*err, fmt=\".\",ls=None,  capsize=0,elinewidth=3,label=None, color=colorplot[j])\n",
    "        plt.scatter( lb, factb*clb,s=int((len(names)*40+10)-40*j), label=iname, color=colorplot[j])\n",
    "        plt.xscale(\"log\")\n",
    "        plt.yscale(\"log\")\n",
    "        ax.tick_params(axis='both', which='major', labelsize = 20)\n",
    "        plt.ylabel(r\"$\\ell(\\ell+1)$C$_{\\ell}/2\\pi$ $(\\textrm{mK}^2$)\", fontsize=20)\n",
    "        plt.xlabel(r\"$\\ell$\", fontsize=20)\n",
    "        plt.legend(fontsize=15)\n",
    "\n",
    "    ax = plt.subplot(grid[1,col])\n",
    "    plt.title(\"bin {}\".format(i), fontsize=20)\n",
    "    plt.plot(    l,cls[L0][i], color=\"red\", label=\"L0\" , linewidth = 3)\n",
    "    for j,iname in enumerate(names):\n",
    "        lb, clb = cs.clsbinned(Cls[iname][\"cl\"][i],del_l=del_l,l0=0)\n",
    "        factb =  lb*(lb+1)/(2*np.pi)\n",
    "        #plt.errorbar(lb, clb, yerr=cs.errora_cl(clb,lb, del_l, fsky, clb), fmt=\".\",ls=None, capsize=0,elinewidth=3,label=None, color=colorplot[j])\n",
    "        plt.scatter( lb, clb, s=int((len(names)*40+10)-40*j), label=iname, color=colorplot[j])\n",
    "        plt.xscale(\"log\")\n",
    "        plt.yscale(\"log\")\n",
    "        ax.tick_params(axis='both', which='major', labelsize = 20)\n",
    "        plt.ylabel(r\"$\\ell(\\ell+1)$C$_{\\ell}/2\\pi$ $(\\textrm{mK}^2$)\", fontsize=20)\n",
    "        plt.xlabel(r\"$\\ell$\", fontsize=20)\n",
    "        plt.legend(fontsize=15)\n",
    "        ax.tick_params(axis='both', which='major', labelsize = 20)\n",
    "        plt.ylabel(r\"$C_{\\ell}$ $(\\textrm{mK}^2$)\", fontsize=20)\n",
    "        plt.xlim(1,4e2)\n",
    "        plt.ylim(1e-10,4e-6)\n",
    "        plt.legend(fontsize=15)\n",
    "\n",
    "    ax = plt.subplot(grid[2,col])\n",
    "    plt.title(\"bin {}\".format(i), fontsize=20)\n",
    "    for j,iname in enumerate(names):\n",
    "        plt.scatter( l, cls[L0][i]-Cls[iname][\"cl\"][i], s=int((len(names)*40+10)-40*j), label=iname, color=colorplot[j])\n",
    "        plt.axhline(y=0, linestyle=\"dashed\", color=\"black\")\n",
    "        plt.xscale(\"log\")\n",
    "        #plt.yscale(\"log\")\n",
    "        ax.tick_params(axis='both', which='major', labelsize = 20)\n",
    "        plt.xlabel(r\"$\\ell$\", fontsize=20)\n",
    "        plt.ylabel(r\"$\\textrm{C}^{21\\textrm{cm}}_{\\ell} - \\textrm{C}^{\\textrm{debias}}_{\\ell}$\", fontsize=20)\n",
    "        plt.ylim(-2e-8,2e-8)\n",
    "        plt.legend(fontsize=15)\n",
    ";    "
   ]
  },
  {
   "cell_type": "code",
   "execution_count": null,
   "metadata": {},
   "outputs": [],
   "source": []
  }
 ],
 "metadata": {
  "kernelspec": {
   "display_name": "Python 2",
   "language": "python",
   "name": "python2"
  },
  "language_info": {
   "codemirror_mode": {
    "name": "ipython",
    "version": 3
   },
   "file_extension": ".py",
   "mimetype": "text/x-python",
   "name": "python",
   "nbconvert_exporter": "python",
   "pygments_lexer": "ipython3",
   "version": "3.6.9"
  }
 },
 "nbformat": 4,
 "nbformat_minor": 4
}
